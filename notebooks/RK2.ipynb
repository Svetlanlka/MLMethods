{
  "nbformat": 4,
  "nbformat_minor": 0,
  "metadata": {
    "colab": {
      "provenance": [],
      "collapsed_sections": [
        "hEPihmX4bvMp",
        "4RyIWgyG6oEb",
        "ljyN9nY-xG9W",
        "ZdD2_V_0-yAC",
        "fBEA8nLH_rOH"
      ],
      "gpuType": "T4"
    },
    "kernelspec": {
      "name": "python3",
      "display_name": "Python 3"
    },
    "language_info": {
      "name": "python"
    },
    "accelerator": "GPU"
  },
  "cells": [
    {
      "cell_type": "markdown",
      "source": [
        "## Импорт данных и библиотек"
      ],
      "metadata": {
        "id": "C4x8HjVCaxFH"
      }
    },
    {
      "cell_type": "markdown",
      "source": [
        "Импорт библиотек"
      ],
      "metadata": {
        "id": "bQ6vUM8HuK_F"
      }
    },
    {
      "cell_type": "code",
      "source": [
        "import numpy as np\n",
        "import pandas as pd\n",
        "import matplotlib as mpl\n",
        "import matplotlib.pyplot as plt\n",
        "%matplotlib inline\n",
        "import seaborn as sns\n",
        "sns.set(style=\"ticks\")\n",
        "\n",
        "from sklearn.feature_extraction.text import CountVectorizer, TfidfVectorizer\n",
        "from sklearn.model_selection import train_test_split\n",
        "from sklearn.linear_model import LogisticRegression\n",
        "from sklearn.svm import SVC\n",
        "from typing import Dict, Tuple\n",
        "from sklearn.model_selection import cross_val_predict\n",
        "from sklearn.metrics import classification_report\n",
        "from sklearn.pipeline import Pipeline"
      ],
      "metadata": {
        "id": "zvlnx7gUsXj_"
      },
      "execution_count": 38,
      "outputs": []
    },
    {
      "cell_type": "markdown",
      "source": [
        "Подключение к диску"
      ],
      "metadata": {
        "id": "S3mUyNE7uOOq"
      }
    },
    {
      "cell_type": "code",
      "source": [
        "from google.colab import drive\n",
        "drive.mount('/content/drive/')"
      ],
      "metadata": {
        "id": "MAqlEDghtrFA",
        "colab": {
          "base_uri": "https://localhost:8080/"
        },
        "outputId": "8fa03ddd-cfd6-4ddc-ece4-54017c78e054"
      },
      "execution_count": 2,
      "outputs": [
        {
          "output_type": "stream",
          "name": "stdout",
          "text": [
            "Drive already mounted at /content/drive/; to attempt to forcibly remount, call drive.mount(\"/content/drive/\", force_remount=True).\n"
          ]
        }
      ]
    },
    {
      "cell_type": "markdown",
      "source": [
        "Импорт датасета"
      ],
      "metadata": {
        "id": "asFScIkKuQvt"
      }
    },
    {
      "cell_type": "code",
      "source": [
        "data =  pd.read_csv(\"/content/drive/My Drive/Учеба/магистратура/2 сем/ММО/Airline Occurences.csv\")"
      ],
      "metadata": {
        "id": "FxpGNq7F-qrE"
      },
      "execution_count": 145,
      "outputs": []
    },
    {
      "cell_type": "markdown",
      "source": [
        "Размер набора данных пришлось сократить, т.к. один запуск длился несколько часов (а нам нужно 4 запуска, а это нескольких дней из-за лимитов коллаба)"
      ],
      "metadata": {
        "id": "7wExfCJarK51"
      }
    },
    {
      "cell_type": "code",
      "source": [
        "data = data[0:1000]"
      ],
      "metadata": {
        "id": "IIyZL_p7mLcN"
      },
      "execution_count": 146,
      "outputs": []
    },
    {
      "cell_type": "code",
      "source": [
        "data.shape"
      ],
      "metadata": {
        "colab": {
          "base_uri": "https://localhost:8080/"
        },
        "id": "JFaQqgKhmXH_",
        "outputId": "ee3b53ef-8f7c-41b4-c0ef-fbec594844e5"
      },
      "execution_count": 147,
      "outputs": [
        {
          "output_type": "execute_result",
          "data": {
            "text/plain": [
              "(1000, 4)"
            ]
          },
          "metadata": {},
          "execution_count": 147
        }
      ]
    },
    {
      "cell_type": "markdown",
      "source": [
        "## Исследование и предобработка набора"
      ],
      "metadata": {
        "id": "0LGlVBpzZmyW"
      }
    },
    {
      "cell_type": "markdown",
      "source": [
        "Импортируемый набор данных содержит отчеты об инцидентах, представленные пилотами, авиадиспетчерами и другими авиационными специалистами. Он включает в себя данные о неисправностях оборудования и предпринятых корректирующих действиях."
      ],
      "metadata": {
        "id": "8rg3_1y2vfkx"
      }
    },
    {
      "cell_type": "code",
      "source": [
        "data.head()"
      ],
      "metadata": {
        "colab": {
          "base_uri": "https://localhost:8080/",
          "height": 206
        },
        "id": "nz4fulUgVGJX",
        "outputId": "c6ead0fe-8e72-437c-f718-274682f8d7b8"
      },
      "execution_count": 148,
      "outputs": [
        {
          "output_type": "execute_result",
          "data": {
            "text/plain": [
              "                                              Report  \\\n",
              "0  MECHANICAL / LANDING GEAR GND FAIL MSG AFTER T...   \n",
              "1  THE NOSE LANDING GEAR DID NOT EXTEND FULLY DUR...   \n",
              "2  THE LEFT SIDE HYDRAULIC SYSTEM FILTER BOWL ASS...   \n",
              "3  AIRCRAFT WAS ON ROLLOUT DURING A NORMAL LANDIN...   \n",
              "4  UPON TAKEOFF ROLL BUT PRIOR TO REACHING 80 KNO...   \n",
              "\n",
              "                    Part Failure  Occurence Nature condition  \\\n",
              "0  RT MLG BRAKE DAMAGED           WARNING INDICATION           \n",
              "1      ZONE 700 MALFUNCTIONED     WARNING INDICATION           \n",
              "2    HYD FILTER FAILED            OTHER                        \n",
              "3          LEFT COLLAPSED         OTHER                        \n",
              "4      ZONE 600 CRACKED           WARNING INDICATION           \n",
              "\n",
              "  Occurence Precautionary Procedures  \n",
              "0           OTHER                     \n",
              "1           ABORTED APPROACH          \n",
              "2           ABORTED APPROACH          \n",
              "3           OTHER                     \n",
              "4           ABORTED TAKEOFF           "
            ],
            "text/html": [
              "\n",
              "  <div id=\"df-cc39b1a2-01ba-47b9-a1d2-70beec93fc8c\" class=\"colab-df-container\">\n",
              "    <div>\n",
              "<style scoped>\n",
              "    .dataframe tbody tr th:only-of-type {\n",
              "        vertical-align: middle;\n",
              "    }\n",
              "\n",
              "    .dataframe tbody tr th {\n",
              "        vertical-align: top;\n",
              "    }\n",
              "\n",
              "    .dataframe thead th {\n",
              "        text-align: right;\n",
              "    }\n",
              "</style>\n",
              "<table border=\"1\" class=\"dataframe\">\n",
              "  <thead>\n",
              "    <tr style=\"text-align: right;\">\n",
              "      <th></th>\n",
              "      <th>Report</th>\n",
              "      <th>Part Failure</th>\n",
              "      <th>Occurence Nature condition</th>\n",
              "      <th>Occurence Precautionary Procedures</th>\n",
              "    </tr>\n",
              "  </thead>\n",
              "  <tbody>\n",
              "    <tr>\n",
              "      <th>0</th>\n",
              "      <td>MECHANICAL / LANDING GEAR GND FAIL MSG AFTER T...</td>\n",
              "      <td>RT MLG BRAKE DAMAGED</td>\n",
              "      <td>WARNING INDICATION</td>\n",
              "      <td>OTHER</td>\n",
              "    </tr>\n",
              "    <tr>\n",
              "      <th>1</th>\n",
              "      <td>THE NOSE LANDING GEAR DID NOT EXTEND FULLY DUR...</td>\n",
              "      <td>ZONE 700 MALFUNCTIONED</td>\n",
              "      <td>WARNING INDICATION</td>\n",
              "      <td>ABORTED APPROACH</td>\n",
              "    </tr>\n",
              "    <tr>\n",
              "      <th>2</th>\n",
              "      <td>THE LEFT SIDE HYDRAULIC SYSTEM FILTER BOWL ASS...</td>\n",
              "      <td>HYD FILTER FAILED</td>\n",
              "      <td>OTHER</td>\n",
              "      <td>ABORTED APPROACH</td>\n",
              "    </tr>\n",
              "    <tr>\n",
              "      <th>3</th>\n",
              "      <td>AIRCRAFT WAS ON ROLLOUT DURING A NORMAL LANDIN...</td>\n",
              "      <td>LEFT COLLAPSED</td>\n",
              "      <td>OTHER</td>\n",
              "      <td>OTHER</td>\n",
              "    </tr>\n",
              "    <tr>\n",
              "      <th>4</th>\n",
              "      <td>UPON TAKEOFF ROLL BUT PRIOR TO REACHING 80 KNO...</td>\n",
              "      <td>ZONE 600 CRACKED</td>\n",
              "      <td>WARNING INDICATION</td>\n",
              "      <td>ABORTED TAKEOFF</td>\n",
              "    </tr>\n",
              "  </tbody>\n",
              "</table>\n",
              "</div>\n",
              "    <div class=\"colab-df-buttons\">\n",
              "\n",
              "  <div class=\"colab-df-container\">\n",
              "    <button class=\"colab-df-convert\" onclick=\"convertToInteractive('df-cc39b1a2-01ba-47b9-a1d2-70beec93fc8c')\"\n",
              "            title=\"Convert this dataframe to an interactive table.\"\n",
              "            style=\"display:none;\">\n",
              "\n",
              "  <svg xmlns=\"http://www.w3.org/2000/svg\" height=\"24px\" viewBox=\"0 -960 960 960\">\n",
              "    <path d=\"M120-120v-720h720v720H120Zm60-500h600v-160H180v160Zm220 220h160v-160H400v160Zm0 220h160v-160H400v160ZM180-400h160v-160H180v160Zm440 0h160v-160H620v160ZM180-180h160v-160H180v160Zm440 0h160v-160H620v160Z\"/>\n",
              "  </svg>\n",
              "    </button>\n",
              "\n",
              "  <style>\n",
              "    .colab-df-container {\n",
              "      display:flex;\n",
              "      gap: 12px;\n",
              "    }\n",
              "\n",
              "    .colab-df-convert {\n",
              "      background-color: #E8F0FE;\n",
              "      border: none;\n",
              "      border-radius: 50%;\n",
              "      cursor: pointer;\n",
              "      display: none;\n",
              "      fill: #1967D2;\n",
              "      height: 32px;\n",
              "      padding: 0 0 0 0;\n",
              "      width: 32px;\n",
              "    }\n",
              "\n",
              "    .colab-df-convert:hover {\n",
              "      background-color: #E2EBFA;\n",
              "      box-shadow: 0px 1px 2px rgba(60, 64, 67, 0.3), 0px 1px 3px 1px rgba(60, 64, 67, 0.15);\n",
              "      fill: #174EA6;\n",
              "    }\n",
              "\n",
              "    .colab-df-buttons div {\n",
              "      margin-bottom: 4px;\n",
              "    }\n",
              "\n",
              "    [theme=dark] .colab-df-convert {\n",
              "      background-color: #3B4455;\n",
              "      fill: #D2E3FC;\n",
              "    }\n",
              "\n",
              "    [theme=dark] .colab-df-convert:hover {\n",
              "      background-color: #434B5C;\n",
              "      box-shadow: 0px 1px 3px 1px rgba(0, 0, 0, 0.15);\n",
              "      filter: drop-shadow(0px 1px 2px rgba(0, 0, 0, 0.3));\n",
              "      fill: #FFFFFF;\n",
              "    }\n",
              "  </style>\n",
              "\n",
              "    <script>\n",
              "      const buttonEl =\n",
              "        document.querySelector('#df-cc39b1a2-01ba-47b9-a1d2-70beec93fc8c button.colab-df-convert');\n",
              "      buttonEl.style.display =\n",
              "        google.colab.kernel.accessAllowed ? 'block' : 'none';\n",
              "\n",
              "      async function convertToInteractive(key) {\n",
              "        const element = document.querySelector('#df-cc39b1a2-01ba-47b9-a1d2-70beec93fc8c');\n",
              "        const dataTable =\n",
              "          await google.colab.kernel.invokeFunction('convertToInteractive',\n",
              "                                                    [key], {});\n",
              "        if (!dataTable) return;\n",
              "\n",
              "        const docLinkHtml = 'Like what you see? Visit the ' +\n",
              "          '<a target=\"_blank\" href=https://colab.research.google.com/notebooks/data_table.ipynb>data table notebook</a>'\n",
              "          + ' to learn more about interactive tables.';\n",
              "        element.innerHTML = '';\n",
              "        dataTable['output_type'] = 'display_data';\n",
              "        await google.colab.output.renderOutput(dataTable, element);\n",
              "        const docLink = document.createElement('div');\n",
              "        docLink.innerHTML = docLinkHtml;\n",
              "        element.appendChild(docLink);\n",
              "      }\n",
              "    </script>\n",
              "  </div>\n",
              "\n",
              "\n",
              "<div id=\"df-9bc5e2a0-7711-4d0f-8911-699601b13586\">\n",
              "  <button class=\"colab-df-quickchart\" onclick=\"quickchart('df-9bc5e2a0-7711-4d0f-8911-699601b13586')\"\n",
              "            title=\"Suggest charts\"\n",
              "            style=\"display:none;\">\n",
              "\n",
              "<svg xmlns=\"http://www.w3.org/2000/svg\" height=\"24px\"viewBox=\"0 0 24 24\"\n",
              "     width=\"24px\">\n",
              "    <g>\n",
              "        <path d=\"M19 3H5c-1.1 0-2 .9-2 2v14c0 1.1.9 2 2 2h14c1.1 0 2-.9 2-2V5c0-1.1-.9-2-2-2zM9 17H7v-7h2v7zm4 0h-2V7h2v10zm4 0h-2v-4h2v4z\"/>\n",
              "    </g>\n",
              "</svg>\n",
              "  </button>\n",
              "\n",
              "<style>\n",
              "  .colab-df-quickchart {\n",
              "      --bg-color: #E8F0FE;\n",
              "      --fill-color: #1967D2;\n",
              "      --hover-bg-color: #E2EBFA;\n",
              "      --hover-fill-color: #174EA6;\n",
              "      --disabled-fill-color: #AAA;\n",
              "      --disabled-bg-color: #DDD;\n",
              "  }\n",
              "\n",
              "  [theme=dark] .colab-df-quickchart {\n",
              "      --bg-color: #3B4455;\n",
              "      --fill-color: #D2E3FC;\n",
              "      --hover-bg-color: #434B5C;\n",
              "      --hover-fill-color: #FFFFFF;\n",
              "      --disabled-bg-color: #3B4455;\n",
              "      --disabled-fill-color: #666;\n",
              "  }\n",
              "\n",
              "  .colab-df-quickchart {\n",
              "    background-color: var(--bg-color);\n",
              "    border: none;\n",
              "    border-radius: 50%;\n",
              "    cursor: pointer;\n",
              "    display: none;\n",
              "    fill: var(--fill-color);\n",
              "    height: 32px;\n",
              "    padding: 0;\n",
              "    width: 32px;\n",
              "  }\n",
              "\n",
              "  .colab-df-quickchart:hover {\n",
              "    background-color: var(--hover-bg-color);\n",
              "    box-shadow: 0 1px 2px rgba(60, 64, 67, 0.3), 0 1px 3px 1px rgba(60, 64, 67, 0.15);\n",
              "    fill: var(--button-hover-fill-color);\n",
              "  }\n",
              "\n",
              "  .colab-df-quickchart-complete:disabled,\n",
              "  .colab-df-quickchart-complete:disabled:hover {\n",
              "    background-color: var(--disabled-bg-color);\n",
              "    fill: var(--disabled-fill-color);\n",
              "    box-shadow: none;\n",
              "  }\n",
              "\n",
              "  .colab-df-spinner {\n",
              "    border: 2px solid var(--fill-color);\n",
              "    border-color: transparent;\n",
              "    border-bottom-color: var(--fill-color);\n",
              "    animation:\n",
              "      spin 1s steps(1) infinite;\n",
              "  }\n",
              "\n",
              "  @keyframes spin {\n",
              "    0% {\n",
              "      border-color: transparent;\n",
              "      border-bottom-color: var(--fill-color);\n",
              "      border-left-color: var(--fill-color);\n",
              "    }\n",
              "    20% {\n",
              "      border-color: transparent;\n",
              "      border-left-color: var(--fill-color);\n",
              "      border-top-color: var(--fill-color);\n",
              "    }\n",
              "    30% {\n",
              "      border-color: transparent;\n",
              "      border-left-color: var(--fill-color);\n",
              "      border-top-color: var(--fill-color);\n",
              "      border-right-color: var(--fill-color);\n",
              "    }\n",
              "    40% {\n",
              "      border-color: transparent;\n",
              "      border-right-color: var(--fill-color);\n",
              "      border-top-color: var(--fill-color);\n",
              "    }\n",
              "    60% {\n",
              "      border-color: transparent;\n",
              "      border-right-color: var(--fill-color);\n",
              "    }\n",
              "    80% {\n",
              "      border-color: transparent;\n",
              "      border-right-color: var(--fill-color);\n",
              "      border-bottom-color: var(--fill-color);\n",
              "    }\n",
              "    90% {\n",
              "      border-color: transparent;\n",
              "      border-bottom-color: var(--fill-color);\n",
              "    }\n",
              "  }\n",
              "</style>\n",
              "\n",
              "  <script>\n",
              "    async function quickchart(key) {\n",
              "      const quickchartButtonEl =\n",
              "        document.querySelector('#' + key + ' button');\n",
              "      quickchartButtonEl.disabled = true;  // To prevent multiple clicks.\n",
              "      quickchartButtonEl.classList.add('colab-df-spinner');\n",
              "      try {\n",
              "        const charts = await google.colab.kernel.invokeFunction(\n",
              "            'suggestCharts', [key], {});\n",
              "      } catch (error) {\n",
              "        console.error('Error during call to suggestCharts:', error);\n",
              "      }\n",
              "      quickchartButtonEl.classList.remove('colab-df-spinner');\n",
              "      quickchartButtonEl.classList.add('colab-df-quickchart-complete');\n",
              "    }\n",
              "    (() => {\n",
              "      let quickchartButtonEl =\n",
              "        document.querySelector('#df-9bc5e2a0-7711-4d0f-8911-699601b13586 button');\n",
              "      quickchartButtonEl.style.display =\n",
              "        google.colab.kernel.accessAllowed ? 'block' : 'none';\n",
              "    })();\n",
              "  </script>\n",
              "</div>\n",
              "    </div>\n",
              "  </div>\n"
            ],
            "application/vnd.google.colaboratory.intrinsic+json": {
              "type": "dataframe",
              "variable_name": "data",
              "summary": "{\n  \"name\": \"data\",\n  \"rows\": 1000,\n  \"fields\": [\n    {\n      \"column\": \"Report\",\n      \"properties\": {\n        \"dtype\": \"string\",\n        \"num_unique_values\": 997,\n        \"samples\": [\n          \"THE FLIGHT CREW REPORTED THAT SMOKE ENTERED THE CABIN AND COCKPIT DURING CRUISE FLIGHT FROM MYNN TO KATL. THE FLIGHT CREW DONNED OXYGEN MASKS. AN EMERGENCY WAS DECLARED AND THE FLIGHT WAS DIVERTED TO KPBI FOR LANDING AND INVESTIGATION INTO THE SMOKE. THE APPROACH AND LANDING WERE UNEVENTFUL. CURRENTLY THE AIR CONDITIONING PACK IS SUSPECTED FOR THIS DISCREPANCY.   THE FOLLOWING COMPONENTS WERE REMOVED FOR INVESTIGATION, THE LEFT AND RIGHT ACM'S, ACM BYPASS SHUTOFF VALVES, MODULATING WATER SEPARATOR ANTI-ICE VALVES AND THE RIGHT AIR CONDITIONING SHUTOFF VALVE. NO FAULTS WERE FOUND. ALL COMPONENTS WERE REINSTALLED, OPS AND LEAK CHECKS WERE SATISFACTORY WITH NO DEFECTS FOUND. THE AIRCRAFT WAS RETURNED TO SERVICE.\",\n          \"AFTER TAXIING INTO GATE, UNABLE TO OPEN MAIN CABIN DOOR FROM   INSIDE OR OUTSIDE.                                ***AIRCRAFT REMOVED FROM SERVICE***  CLEANED, INSPECTED, AND LUBED PAX DOOR SEAL IAW AWAC SUP 19-152A.  OPS  CHECK GOOD AT THIS TIME.  OPERATED FROM INSIDE AND OUTSIDE, OPENED    AND CLOSED SMOOTHLY.\",\n          \"MARCH 14, 2021: AIRCRAFT DEPARTED FROM KCRQ ON A PART 91 REPOSITION FLIGHT DESTINED FOR KSNA (BASE AIRPORT). NO ANOMALIES WERE DETECTED UNTIL GEAR RETRACTION. DURING GEAR RETRACTION CREW ALERTING SYSTEM (CAS) DISPLAYED A MESSAGE INDICATING HYDRAULIC SYSTEM A FLUID LEVEL LOW AND HYDRAULIC PUMP A FAIL. CREW FOLLOWED MANUFACTURER?S EMERGENCY CHECKLIST AND ALSO ELECTED TO DIVERT TO KLGB DUE TO LONGER RUNWAY AVAILABLE. AN EMERGENCY WAS DECLARED AND THE AIRCRAFT LANDED AT KLGB WITHOUT INCIDENT. AN INSPECTION OF THE RH MAIN GEAR RETRACT HOSE ASSEMBLY REVEALED A FAILURE OF THE FLEXIBLE HOSE. ALL 4 GEAR EXTEND/RETRACT HOSE ASSEMBLIES WERE ORIGINAL EQUIPMENT INSTALLATION (18 YEARS OLD) AND THEREFORE WE REPLACED THEM ALL.\"\n        ],\n        \"semantic_type\": \"\",\n        \"description\": \"\"\n      }\n    },\n    {\n      \"column\": \"Part Failure\",\n      \"properties\": {\n        \"dtype\": \"string\",\n        \"num_unique_values\": 716,\n        \"samples\": [\n          \"LT ENGINE EMPTY           \",\n          \"ENG N2 FAILED          \",\n          \"LAV DOOR LATCH BENT            \"\n        ],\n        \"semantic_type\": \"\",\n        \"description\": \"\"\n      }\n    },\n    {\n      \"column\": \"Occurence Nature condition\",\n      \"properties\": {\n        \"dtype\": \"category\",\n        \"num_unique_values\": 18,\n        \"samples\": [\n          \"WARNING INDICATION        \",\n          \"OTHER                     \",\n          \"PARTIAL RPM/PWR LOSS      \"\n        ],\n        \"semantic_type\": \"\",\n        \"description\": \"\"\n      }\n    },\n    {\n      \"column\": \"Occurence Precautionary Procedures\",\n      \"properties\": {\n        \"dtype\": \"category\",\n        \"num_unique_values\": 11,\n        \"samples\": [\n          \"UNSCHED LANDING         \",\n          \"OTHER                   \",\n          \"ENGINE SHUTDOWN         \"\n        ],\n        \"semantic_type\": \"\",\n        \"description\": \"\"\n      }\n    }\n  ]\n}"
            }
          },
          "metadata": {},
          "execution_count": 148
        }
      ]
    },
    {
      "cell_type": "markdown",
      "source": [
        "Размер набора данных:"
      ],
      "metadata": {
        "id": "oXxK9qllX3dG"
      }
    },
    {
      "cell_type": "code",
      "source": [
        "data.shape"
      ],
      "metadata": {
        "colab": {
          "base_uri": "https://localhost:8080/"
        },
        "id": "s8wTZ07T_93S",
        "outputId": "93101ced-794e-4e04-d240-c6a3c9738016"
      },
      "execution_count": 149,
      "outputs": [
        {
          "output_type": "execute_result",
          "data": {
            "text/plain": [
              "(1000, 4)"
            ]
          },
          "metadata": {},
          "execution_count": 149
        }
      ]
    },
    {
      "cell_type": "markdown",
      "source": [
        "Проверим набор данных на null значения:"
      ],
      "metadata": {
        "id": "mtDU64jlX5kh"
      }
    },
    {
      "cell_type": "code",
      "source": [
        "print(data.isnull().sum())"
      ],
      "metadata": {
        "colab": {
          "base_uri": "https://localhost:8080/"
        },
        "id": "pxkHc5I2HlJx",
        "outputId": "02794992-1669-48b3-ea3e-fe18c2399232"
      },
      "execution_count": 150,
      "outputs": [
        {
          "output_type": "stream",
          "name": "stdout",
          "text": [
            "Report                                0\n",
            "Part Failure                          0\n",
            "Occurence Nature condition            0\n",
            "Occurence Precautionary Procedures    0\n",
            "dtype: int64\n"
          ]
        }
      ]
    },
    {
      "cell_type": "markdown",
      "source": [
        "Null значений нет, значит можем продолжить работу с набором"
      ],
      "metadata": {
        "id": "sY1BPDg4X_02"
      }
    },
    {
      "cell_type": "markdown",
      "source": [
        "Теперь проверим уникальные значения столбцов:"
      ],
      "metadata": {
        "id": "7nt3vH6lY7MG"
      }
    },
    {
      "cell_type": "code",
      "source": [
        "print(data.nunique())"
      ],
      "metadata": {
        "colab": {
          "base_uri": "https://localhost:8080/"
        },
        "id": "Vnp6Rg37Y-GM",
        "outputId": "6cc9409d-c15a-46ca-9ec6-a626bbb3f5c2"
      },
      "execution_count": 151,
      "outputs": [
        {
          "output_type": "stream",
          "name": "stdout",
          "text": [
            "Report                                997\n",
            "Part Failure                          716\n",
            "Occurence Nature condition             18\n",
            "Occurence Precautionary Procedures     11\n",
            "dtype: int64\n"
          ]
        }
      ]
    },
    {
      "cell_type": "markdown",
      "source": [
        "Для столбцов \"Occurence Precautionary Procedures\", \"Occurence Nature condition\" выведем список уникальных значений:"
      ],
      "metadata": {
        "id": "j9Hvx6qwZSib"
      }
    },
    {
      "cell_type": "code",
      "source": [
        "data[\"Occurence Precautionary Procedures\"].unique()"
      ],
      "metadata": {
        "colab": {
          "base_uri": "https://localhost:8080/"
        },
        "id": "TIe2qfKp_cAu",
        "outputId": "459ce84e-6e45-43ba-fd4b-823cae0952b5"
      },
      "execution_count": 152,
      "outputs": [
        {
          "output_type": "execute_result",
          "data": {
            "text/plain": [
              "array(['OTHER                   ', 'ABORTED APPROACH        ',\n",
              "       'ABORTED TAKEOFF         ', 'EMER. DESCENT           ',\n",
              "       'O2 MASK DEPLOYED        ', 'UNSCHED LANDING         ',\n",
              "       'NONE                    ', 'RETURN TO BLOCK         ',\n",
              "       'DEACTIVATE SYST/CIRCUITS', 'ENGINE SHUTDOWN         ',\n",
              "       'DUMP FUEL               '], dtype=object)"
            ]
          },
          "metadata": {},
          "execution_count": 152
        }
      ]
    },
    {
      "cell_type": "code",
      "source": [
        "data[\"Occurence Nature condition\"].unique()"
      ],
      "metadata": {
        "colab": {
          "base_uri": "https://localhost:8080/"
        },
        "id": "Ai8PVgu3_pBF",
        "outputId": "6b05d192-ddc7-4988-845e-6742f82b0467"
      },
      "execution_count": 153,
      "outputs": [
        {
          "output_type": "execute_result",
          "data": {
            "text/plain": [
              "array(['WARNING INDICATION        ', 'OTHER                     ',\n",
              "       'ENGINE FLAMEOUT           ', 'ELECT. POWER LOSS-50 PC   ',\n",
              "       'SMOKE/FUMES/ODORS/SPARKS  ', 'FLUID LOSS                ',\n",
              "       'FALSE WARNING             ', 'NO TEST                   ',\n",
              "       'PARTIAL RPM/PWR LOSS      ', 'VIBRATION/BUFFET          ',\n",
              "       'AFFECT SYSTEMS            ', 'FLT CONT AFFECTED         ',\n",
              "       'MULTIPLE FAILURE          ', 'SIGNIFICANT FAILURE REPORT',\n",
              "       'INADEQUATE Q C            ', 'NO WARNING INDICATION     ',\n",
              "       'OVER TEMP                 ', 'FLT. ATTITUDE INST.       '],\n",
              "      dtype=object)"
            ]
          },
          "metadata": {},
          "execution_count": 153
        }
      ]
    },
    {
      "cell_type": "markdown",
      "source": [
        "Как можно заметить выше, в значениях столбцов у нас есть пробелы в конце. Удалим их и также приведем к нижнему регистру."
      ],
      "metadata": {
        "id": "j0NMdiPMaQOQ"
      }
    },
    {
      "cell_type": "code",
      "source": [
        "data['Report'] = data['Report'].str.strip().str.lower()\n",
        "data['Part Failure'] = data['Part Failure'].str.strip().str.lower()\n",
        "data['Occurence Nature condition'] = data['Occurence Nature condition'].str.strip().str.lower()\n",
        "data['Occurence Precautionary Procedures'] = data['Occurence Precautionary Procedures'].str.strip().str.lower()"
      ],
      "metadata": {
        "id": "Tnliu4foahyH"
      },
      "execution_count": 154,
      "outputs": []
    },
    {
      "cell_type": "markdown",
      "source": [
        "Теперь пробелов больше нет и значения в нижнем регистре:"
      ],
      "metadata": {
        "id": "Vuv1KpMIayQH"
      }
    },
    {
      "cell_type": "code",
      "source": [
        "data[\"Occurence Precautionary Procedures\"].unique()"
      ],
      "metadata": {
        "colab": {
          "base_uri": "https://localhost:8080/"
        },
        "id": "wTyfBwRhawFR",
        "outputId": "78d3be08-67f7-4915-86ee-7a89161fbafa"
      },
      "execution_count": 155,
      "outputs": [
        {
          "output_type": "execute_result",
          "data": {
            "text/plain": [
              "array(['other', 'aborted approach', 'aborted takeoff', 'emer. descent',\n",
              "       'o2 mask deployed', 'unsched landing', 'none', 'return to block',\n",
              "       'deactivate syst/circuits', 'engine shutdown', 'dump fuel'],\n",
              "      dtype=object)"
            ]
          },
          "metadata": {},
          "execution_count": 155
        }
      ]
    },
    {
      "cell_type": "markdown",
      "source": [
        "Далее разделим выборку на тестовую и обучающую. В качестве целевого признака возьмем столбец \"Occurence Nature condition\", описывающий причину возникновения аварии. Столбец \"Occurence Precautionary Procedures\" рассматривать не будем."
      ],
      "metadata": {
        "id": "GubEHLLPcM1y"
      }
    },
    {
      "cell_type": "code",
      "source": [
        "X = data[['Report', 'Part Failure']]\n",
        "y = data['Occurence Nature condition']\n",
        "X_train, X_test, y_train, y_test = train_test_split(X, y, test_size=0.3, random_state=42)"
      ],
      "metadata": {
        "id": "Qjd3_C0-cV5Q"
      },
      "execution_count": 156,
      "outputs": []
    },
    {
      "cell_type": "markdown",
      "source": [
        "## Векторизация признаков"
      ],
      "metadata": {
        "id": "gswxHD6hdRcy"
      }
    },
    {
      "cell_type": "markdown",
      "source": [
        "По заданию необходимо сформировать два варианта векторизации признаков - на основе CountVectorizer и на основе TfidfVectorizer."
      ],
      "metadata": {
        "id": "bA0HRhmUdZPh"
      }
    },
    {
      "cell_type": "markdown",
      "source": [
        "Сначала сформируем общий словарь для обучения моделей из обучающей и тестовой выборки. В словаре будет текст из 2х столбцов"
      ],
      "metadata": {
        "id": "xzTjgWbBfJxQ"
      }
    },
    {
      "cell_type": "code",
      "source": [
        "vocab_list = data[['Report', 'Part Failure']].apply(lambda x: ' '.join(x), axis=1)\n",
        "vocab_list[1:10]"
      ],
      "metadata": {
        "colab": {
          "base_uri": "https://localhost:8080/"
        },
        "id": "HoR38yh9fMmX",
        "outputId": "9c6fa40c-bee2-47b6-c998-5facca069a3f"
      },
      "execution_count": 157,
      "outputs": [
        {
          "output_type": "execute_result",
          "data": {
            "text/plain": [
              "1    the nose landing gear did not extend fully dur...\n",
              "2    the left side hydraulic system filter bowl ass...\n",
              "3    aircraft was on rollout during a normal landin...\n",
              "4    upon takeoff roll but prior to reaching 80 kno...\n",
              "5    failure of the #1 engine hp fuel pump drive co...\n",
              "6    75 amp emergency battery circuit breaker on co...\n",
              "7    crew smelled an odor, took actions to isolate ...\n",
              "8    per pilot report:  during climb(thru fl360) le...\n",
              "9    enroute from lsgg-rjaa with 4 crew on board an...\n",
              "dtype: object"
            ]
          },
          "metadata": {},
          "execution_count": 157
        }
      ]
    },
    {
      "cell_type": "markdown",
      "source": [
        "### **CountVectorizer:**"
      ],
      "metadata": {
        "id": "pfDBNWJMgZVm"
      }
    },
    {
      "cell_type": "code",
      "source": [
        "count_vectorizer = CountVectorizer()\n",
        "count_vectorizer.fit(vocab_list)\n",
        "count_vectorizer_vocab = count_vectorizer.vocabulary_\n",
        "print('Количество сформированных признаков - {}'.format(len(count_vectorizer_vocab)))"
      ],
      "metadata": {
        "colab": {
          "base_uri": "https://localhost:8080/"
        },
        "id": "Xq21EH2Qgc71",
        "outputId": "3f730f5b-df56-48e4-f1fb-b1ed39e8ab54"
      },
      "execution_count": 158,
      "outputs": [
        {
          "output_type": "stream",
          "name": "stdout",
          "text": [
            "Количество сформированных признаков - 4817\n"
          ]
        }
      ]
    },
    {
      "cell_type": "markdown",
      "source": [
        "Просмотрим некоторые из слов сформированного с помощью CountVectorizer словаря:"
      ],
      "metadata": {
        "id": "76PPNEGmg6E8"
      }
    },
    {
      "cell_type": "code",
      "source": [
        "for i in list(count_vectorizer_vocab)[1:10]:\n",
        "    print('{}={}'.format(i, count_vectorizer_vocab[i]))"
      ],
      "metadata": {
        "colab": {
          "base_uri": "https://localhost:8080/"
        },
        "id": "KS6_h4cdg0lD",
        "outputId": "49eaeda5-3ef4-4c06-83d6-d586a1865879"
      },
      "execution_count": 159,
      "outputs": [
        {
          "output_type": "stream",
          "name": "stdout",
          "text": [
            "landing=3072\n",
            "gear=2703\n",
            "gnd=2712\n",
            "fail=2418\n",
            "msg=3344\n",
            "after=1395\n",
            "takeoff=4416\n",
            "emergency=2314\n",
            "declared=2078\n"
          ]
        }
      ]
    },
    {
      "cell_type": "markdown",
      "source": [
        "### **TfidfVectorizer:**"
      ],
      "metadata": {
        "id": "8hvbieFkd8tm"
      }
    },
    {
      "cell_type": "code",
      "source": [
        "tfidf_vectorizer = TfidfVectorizer()\n",
        "tfidf_vectorizer.fit(vocab_list)\n",
        "tfidf_vectorizer_vocab = tfidf_vectorizer.vocabulary_\n",
        "print('Количество сформированных признаков - {}'.format(len(tfidf_vectorizer_vocab)))"
      ],
      "metadata": {
        "colab": {
          "base_uri": "https://localhost:8080/"
        },
        "id": "d3sdKO3leCua",
        "outputId": "58a8fca2-984f-4545-a4f6-86cf8824f2ac"
      },
      "execution_count": 160,
      "outputs": [
        {
          "output_type": "stream",
          "name": "stdout",
          "text": [
            "Количество сформированных признаков - 4817\n"
          ]
        }
      ]
    },
    {
      "cell_type": "code",
      "source": [
        "for i in list(count_vectorizer_vocab)[1:10]:\n",
        "    print('{}={}'.format(i, tfidf_vectorizer_vocab[i]))"
      ],
      "metadata": {
        "colab": {
          "base_uri": "https://localhost:8080/"
        },
        "id": "uUL8H01KkW0p",
        "outputId": "9b06ae2b-e9b2-439f-9328-b1bdfe00d72f"
      },
      "execution_count": 161,
      "outputs": [
        {
          "output_type": "stream",
          "name": "stdout",
          "text": [
            "landing=3072\n",
            "gear=2703\n",
            "gnd=2712\n",
            "fail=2418\n",
            "msg=3344\n",
            "after=1395\n",
            "takeoff=4416\n",
            "emergency=2314\n",
            "declared=2078\n"
          ]
        }
      ]
    },
    {
      "cell_type": "markdown",
      "source": [
        "## Классификация"
      ],
      "metadata": {
        "id": "csX_8fejkpe-"
      }
    },
    {
      "cell_type": "markdown",
      "source": [
        "По моему варианту необходимо использовать методы SVC, LogisticRegression. Проверим данные методы совместно с рассмотренными выше вариантами векторизации."
      ],
      "metadata": {
        "id": "3mDkwzY9krfj"
      }
    },
    {
      "cell_type": "code",
      "source": [
        "def test_model(v, c):\n",
        "    model = c\n",
        "    X_train_vec = v.fit_transform(X_train.apply(lambda x: ' '.join(x), axis=1))\n",
        "    X_test_vec = v.transform(X_test.apply(lambda x: ' '.join(x), axis=1))\n",
        "\n",
        "    model.fit(X_train_vec, y_train)\n",
        "    y_pred = model.predict(X_test_vec)\n",
        "\n",
        "    print('Метод векторизации: {}'.format(v))\n",
        "    print('Метод классификации: {}'.format(c))\n",
        "    print('Оценка точности:\\n', classification_report(y_test, y_pred, zero_division=True, digits=6))"
      ],
      "metadata": {
        "id": "f9Fctv23maPR"
      },
      "execution_count": 170,
      "outputs": []
    },
    {
      "cell_type": "code",
      "source": [
        "test_model(CountVectorizer(), SVC())"
      ],
      "metadata": {
        "colab": {
          "base_uri": "https://localhost:8080/"
        },
        "id": "2W-ZfqowmXeV",
        "outputId": "b2b437bf-70b6-4846-fb10-823a658cd3d2"
      },
      "execution_count": 171,
      "outputs": [
        {
          "output_type": "stream",
          "name": "stdout",
          "text": [
            "Метод векторизации: CountVectorizer()\n",
            "Метод классификации: SVC()\n",
            "Оценка точности:\n",
            "                           precision    recall  f1-score   support\n",
            "\n",
            "          affect systems   1.000000  0.000000  0.000000         2\n",
            " elect. power loss-50 pc   1.000000  0.000000  0.000000         1\n",
            "         engine flameout   1.000000  0.000000  0.000000         1\n",
            "           false warning   1.000000  0.000000  0.000000        10\n",
            "       flt cont affected   1.000000  0.000000  0.000000         2\n",
            "              fluid loss   1.000000  0.000000  0.000000         9\n",
            "        multiple failure   1.000000  0.000000  0.000000         3\n",
            "                 no test   1.000000  0.272727  0.428571        11\n",
            "                   other   0.840580  0.910995  0.874372       191\n",
            "               over temp   1.000000  0.000000  0.000000         1\n",
            "    partial rpm/pwr loss   1.000000  0.000000  0.000000         1\n",
            "smoke/fumes/odors/sparks   1.000000  0.000000  0.000000         5\n",
            "        vibration/buffet   1.000000  0.000000  0.000000         3\n",
            "      warning indication   0.577778  0.866667  0.693333        60\n",
            "\n",
            "                accuracy                       0.763333       300\n",
            "               macro avg   0.958454  0.146456  0.142591       300\n",
            "            weighted avg   0.814058  0.763333  0.711064       300\n",
            "\n"
          ]
        }
      ]
    },
    {
      "cell_type": "code",
      "source": [
        "test_model(TfidfVectorizer(), SVC())"
      ],
      "metadata": {
        "colab": {
          "base_uri": "https://localhost:8080/"
        },
        "id": "KsMIy-hIoPqo",
        "outputId": "0fc20078-34fd-401e-b21a-99714211a575"
      },
      "execution_count": 172,
      "outputs": [
        {
          "output_type": "stream",
          "name": "stdout",
          "text": [
            "Метод векторизации: TfidfVectorizer()\n",
            "Метод классификации: SVC()\n",
            "Оценка точности:\n",
            "                           precision    recall  f1-score   support\n",
            "\n",
            "          affect systems   1.000000  0.000000  0.000000         2\n",
            " elect. power loss-50 pc   1.000000  0.000000  0.000000         1\n",
            "         engine flameout   1.000000  0.000000  0.000000         1\n",
            "           false warning   1.000000  0.000000  0.000000        10\n",
            "       flt cont affected   1.000000  0.000000  0.000000         2\n",
            "              fluid loss   1.000000  0.000000  0.000000         9\n",
            "        multiple failure   1.000000  0.000000  0.000000         3\n",
            "                 no test   1.000000  0.363636  0.533333        11\n",
            "                   other   0.852941  0.910995  0.881013       191\n",
            "               over temp   1.000000  0.000000  0.000000         1\n",
            "    partial rpm/pwr loss   1.000000  0.000000  0.000000         1\n",
            "smoke/fumes/odors/sparks   1.000000  0.000000  0.000000         5\n",
            "        vibration/buffet   1.000000  0.000000  0.000000         3\n",
            "      warning indication   0.554348  0.850000  0.671053        60\n",
            "\n",
            "                accuracy                       0.763333       300\n",
            "               macro avg   0.957664  0.151759  0.148957       300\n",
            "            weighted avg   0.817242  0.763333  0.714677       300\n",
            "\n"
          ]
        }
      ]
    },
    {
      "cell_type": "code",
      "source": [
        "test_model(CountVectorizer(), LogisticRegression(C=3.0))"
      ],
      "metadata": {
        "colab": {
          "base_uri": "https://localhost:8080/"
        },
        "id": "B8mJpjmUoQWJ",
        "outputId": "fe8bc02f-776e-4906-813c-859048a35223"
      },
      "execution_count": 178,
      "outputs": [
        {
          "output_type": "stream",
          "name": "stdout",
          "text": [
            "Метод векторизации: CountVectorizer()\n",
            "Метод классификации: LogisticRegression(C=3.0)\n",
            "Оценка точности:\n",
            "                           precision    recall  f1-score   support\n",
            "\n",
            "          affect systems   0.000000  0.000000  0.000000         2\n",
            " elect. power loss-50 pc   1.000000  0.000000  0.000000         1\n",
            "         engine flameout   1.000000  0.000000  0.000000         1\n",
            "           false warning   0.312500  0.500000  0.384615        10\n",
            "       flt cont affected   1.000000  0.000000  0.000000         2\n",
            "              fluid loss   0.666667  0.222222  0.333333         9\n",
            "        multiple failure   1.000000  0.000000  0.000000         3\n",
            "                 no test   0.888889  0.727273  0.800000        11\n",
            "                   other   0.887755  0.910995  0.899225       191\n",
            "               over temp   1.000000  0.000000  0.000000         1\n",
            "    partial rpm/pwr loss   0.000000  0.000000  0.000000         1\n",
            "smoke/fumes/odors/sparks   1.000000  0.400000  0.571429         5\n",
            "        vibration/buffet   1.000000  0.000000  0.000000         3\n",
            "      warning indication   0.600000  0.700000  0.646154        60\n",
            "\n",
            "                accuracy                       0.776667       300\n",
            "               macro avg   0.739701  0.247178  0.259625       300\n",
            "            weighted avg   0.801547  0.776667  0.763415       300\n",
            "\n"
          ]
        },
        {
          "output_type": "stream",
          "name": "stderr",
          "text": [
            "/usr/local/lib/python3.10/dist-packages/sklearn/linear_model/_logistic.py:458: ConvergenceWarning: lbfgs failed to converge (status=1):\n",
            "STOP: TOTAL NO. of ITERATIONS REACHED LIMIT.\n",
            "\n",
            "Increase the number of iterations (max_iter) or scale the data as shown in:\n",
            "    https://scikit-learn.org/stable/modules/preprocessing.html\n",
            "Please also refer to the documentation for alternative solver options:\n",
            "    https://scikit-learn.org/stable/modules/linear_model.html#logistic-regression\n",
            "  n_iter_i = _check_optimize_result(\n"
          ]
        }
      ]
    },
    {
      "cell_type": "code",
      "source": [
        "test_model(TfidfVectorizer(), LogisticRegression(C=3.0))"
      ],
      "metadata": {
        "colab": {
          "base_uri": "https://localhost:8080/"
        },
        "id": "8hS3YzODoQua",
        "outputId": "c5ebe5c4-691a-4d39-a5df-31a6c6ea542a"
      },
      "execution_count": 174,
      "outputs": [
        {
          "output_type": "stream",
          "name": "stdout",
          "text": [
            "Метод векторизации: TfidfVectorizer()\n",
            "Метод классификации: LogisticRegression(C=3.0)\n",
            "Оценка точности:\n",
            "                           precision    recall  f1-score   support\n",
            "\n",
            "          affect systems   1.000000  0.000000  0.000000         2\n",
            " elect. power loss-50 pc   1.000000  0.000000  0.000000         1\n",
            "         engine flameout   1.000000  0.000000  0.000000         1\n",
            "           false warning   0.333333  0.100000  0.153846        10\n",
            "       flt cont affected   1.000000  0.000000  0.000000         2\n",
            "              fluid loss   1.000000  0.111111  0.200000         9\n",
            "        multiple failure   1.000000  0.000000  0.000000         3\n",
            "                 no test   1.000000  0.454545  0.625000        11\n",
            "                   other   0.868293  0.931937  0.898990       191\n",
            "               over temp   1.000000  0.000000  0.000000         1\n",
            "    partial rpm/pwr loss   1.000000  0.000000  0.000000         1\n",
            "smoke/fumes/odors/sparks   1.000000  0.200000  0.333333         5\n",
            "        vibration/buffet   1.000000  0.000000  0.000000         3\n",
            "      warning indication   0.576471  0.816667  0.675862        60\n",
            "\n",
            "                accuracy                       0.783333       300\n",
            "               macro avg   0.912721  0.186733  0.206217       300\n",
            "            weighted avg   0.809218  0.783333  0.747130       300\n",
            "\n"
          ]
        }
      ]
    },
    {
      "cell_type": "markdown",
      "source": [
        "На основе 4х запусков можно сделать следующие выводы:\n",
        "- точность методов векторизации оказалась одинаковой для классификатора SVC (где-то точность 1го класса была лучше, где-то другого, но в целом точность одинаковая). Но с классификатором LogisticRegression метод векторизации TfidfVectorizer показал результат лучше.\n",
        "- метод логистической регрессии оказался лучше, чем SVC\n",
        "\n",
        "Также можно попробовать запустить логистическую регрессию с другими параметрами:"
      ],
      "metadata": {
        "id": "7dNmfOtIs_ph"
      }
    },
    {
      "cell_type": "code",
      "source": [
        "test_model(TfidfVectorizer(), LogisticRegression(C=5.0))"
      ],
      "metadata": {
        "colab": {
          "base_uri": "https://localhost:8080/"
        },
        "id": "DK5UakS6qn8T",
        "outputId": "97b68727-82d9-4a2e-c318-7cbd22a9775b"
      },
      "execution_count": 167,
      "outputs": [
        {
          "output_type": "stream",
          "name": "stdout",
          "text": [
            "Метод векторизации: TfidfVectorizer()\n",
            "Метод классификации: LogisticRegression(C=5.0)\n",
            "Оценка точности:\n",
            "                           precision    recall  f1-score   support\n",
            "\n",
            "          affect systems       1.00      0.00      0.00         2\n",
            " elect. power loss-50 pc       1.00      0.00      0.00         1\n",
            "         engine flameout       1.00      0.00      0.00         1\n",
            "           false warning       0.60      0.30      0.40        10\n",
            "       flt cont affected       1.00      0.00      0.00         2\n",
            "              fluid loss       1.00      0.22      0.36         9\n",
            "        multiple failure       1.00      0.00      0.00         3\n",
            "                 no test       1.00      0.45      0.62        11\n",
            "                   other       0.88      0.94      0.91       191\n",
            "               over temp       1.00      0.00      0.00         1\n",
            "    partial rpm/pwr loss       1.00      0.00      0.00         1\n",
            "smoke/fumes/odors/sparks       1.00      0.20      0.33         5\n",
            "        vibration/buffet       1.00      0.00      0.00         3\n",
            "      warning indication       0.58      0.82      0.68        60\n",
            "\n",
            "                accuracy                           0.80       300\n",
            "               macro avg       0.93      0.21      0.24       300\n",
            "            weighted avg       0.83      0.80      0.77       300\n",
            "\n"
          ]
        }
      ]
    },
    {
      "cell_type": "markdown",
      "source": [
        "Таким образом, результат оказался еще лучше. Если дальше увеличивать C, то результат уже не меняется. Значит итоговая точность - 80%. Наилучшую точность получили с методом векторизации TfidfVectorizer и классификатором LogisticRegression(C=5.0)"
      ],
      "metadata": {
        "id": "ibBaCIcOuOGw"
      }
    }
  ]
}